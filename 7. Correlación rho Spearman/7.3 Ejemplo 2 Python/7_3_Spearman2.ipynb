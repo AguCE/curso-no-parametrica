{
  "nbformat": 4,
  "nbformat_minor": 0,
  "metadata": {
    "colab": {
      "name": "7.3.Spearman2.ipynb",
      "provenance": []
    },
    "kernelspec": {
      "name": "python3",
      "display_name": "Python 3"
    }
  },
  "cells": [
    {
      "cell_type": "code",
      "metadata": {
        "id": "DdMd9TlnFP9i",
        "colab_type": "code",
        "colab": {
          "base_uri": "https://localhost:8080/",
          "height": 70
        },
        "outputId": "91e80eac-6884-40a5-81f5-379e336d3099"
      },
      "source": [
        "import pandas as pd\n",
        "from scipy import stats\n",
        "import matplotlib.pyplot as plt\n",
        "from sklearn.linear_model import LinearRegression\n",
        "from statsmodels.stats.diagnostic import normal_ad\n",
        "from scipy.stats import shapiro\n",
        "import seaborn as sns"
      ],
      "execution_count": 1,
      "outputs": [
        {
          "output_type": "stream",
          "text": [
            "/usr/local/lib/python3.6/dist-packages/statsmodels/tools/_testing.py:19: FutureWarning: pandas.util.testing is deprecated. Use the functions in the public API at pandas.testing instead.\n",
            "  import pandas.util.testing as tm\n"
          ],
          "name": "stderr"
        }
      ]
    },
    {
      "cell_type": "code",
      "metadata": {
        "id": "l_6hFLFtFXT-",
        "colab_type": "code",
        "colab": {
          "base_uri": "https://localhost:8080/",
          "height": 195
        },
        "outputId": "a7ff39c7-bd88-46e4-cd0f-61209c25123d"
      },
      "source": [
        "df=pd.read_csv('/content/pinetree.csv')\n",
        "df.head()"
      ],
      "execution_count": 2,
      "outputs": [
        {
          "output_type": "execute_result",
          "data": {
            "text/html": [
              "<div>\n",
              "<style scoped>\n",
              "    .dataframe tbody tr th:only-of-type {\n",
              "        vertical-align: middle;\n",
              "    }\n",
              "\n",
              "    .dataframe tbody tr th {\n",
              "        vertical-align: top;\n",
              "    }\n",
              "\n",
              "    .dataframe thead th {\n",
              "        text-align: right;\n",
              "    }\n",
              "</style>\n",
              "<table border=\"1\" class=\"dataframe\">\n",
              "  <thead>\n",
              "    <tr style=\"text-align: right;\">\n",
              "      <th></th>\n",
              "      <th>pine_population</th>\n",
              "      <th>beetle_density</th>\n",
              "    </tr>\n",
              "  </thead>\n",
              "  <tbody>\n",
              "    <tr>\n",
              "      <th>0</th>\n",
              "      <td>896.106591</td>\n",
              "      <td>0.090259</td>\n",
              "    </tr>\n",
              "    <tr>\n",
              "      <th>1</th>\n",
              "      <td>884.237630</td>\n",
              "      <td>0.223759</td>\n",
              "    </tr>\n",
              "    <tr>\n",
              "      <th>2</th>\n",
              "      <td>830.827303</td>\n",
              "      <td>0.311749</td>\n",
              "    </tr>\n",
              "    <tr>\n",
              "      <th>3</th>\n",
              "      <td>860.499707</td>\n",
              "      <td>0.796264</td>\n",
              "    </tr>\n",
              "    <tr>\n",
              "      <th>4</th>\n",
              "      <td>961.385880</td>\n",
              "      <td>0.543835</td>\n",
              "    </tr>\n",
              "  </tbody>\n",
              "</table>\n",
              "</div>"
            ],
            "text/plain": [
              "   pine_population  beetle_density\n",
              "0       896.106591        0.090259\n",
              "1       884.237630        0.223759\n",
              "2       830.827303        0.311749\n",
              "3       860.499707        0.796264\n",
              "4       961.385880        0.543835"
            ]
          },
          "metadata": {
            "tags": []
          },
          "execution_count": 2
        }
      ]
    },
    {
      "cell_type": "markdown",
      "metadata": {
        "id": "C2lds00r0tR7",
        "colab_type": "text"
      },
      "source": [
        "# Normalidad de los residuos"
      ]
    },
    {
      "cell_type": "code",
      "metadata": {
        "id": "k27v6JJn1t7X",
        "colab_type": "code",
        "colab": {
          "base_uri": "https://localhost:8080/",
          "height": 54
        },
        "outputId": "a704cb25-60b3-4f16-915a-d7eb1bd90b9f"
      },
      "source": [
        "import statsmodels.formula.api as smf\n",
        "#instantiation\n",
        "reg = smf.ols('pine_population ~ beetle_density', data = df)\n",
        "#members of reg object\n",
        "print(dir(reg))"
      ],
      "execution_count": 3,
      "outputs": [
        {
          "output_type": "stream",
          "text": [
            "['__class__', '__delattr__', '__dict__', '__dir__', '__doc__', '__eq__', '__format__', '__ge__', '__getattribute__', '__gt__', '__hash__', '__init__', '__init_subclass__', '__le__', '__lt__', '__module__', '__ne__', '__new__', '__reduce__', '__reduce_ex__', '__repr__', '__setattr__', '__sizeof__', '__str__', '__subclasshook__', '__weakref__', '_data_attr', '_df_model', '_df_resid', '_fit_collinear', '_fit_ridge', '_fit_zeros', '_get_init_kwds', '_handle_data', '_init_keys', '_setup_score_hess', '_sqrt_lasso', 'data', 'df_model', 'df_resid', 'endog', 'endog_names', 'exog', 'exog_names', 'fit', 'fit_regularized', 'formula', 'from_formula', 'get_distribution', 'hessian', 'hessian_factor', 'information', 'initialize', 'k_constant', 'loglike', 'nobs', 'predict', 'rank', 'score', 'weights', 'wendog', 'wexog', 'whiten']\n"
          ],
          "name": "stdout"
        }
      ]
    },
    {
      "cell_type": "code",
      "metadata": {
        "id": "DjYXfops3RVZ",
        "colab_type": "code",
        "colab": {}
      },
      "source": [
        "res = reg.fit()"
      ],
      "execution_count": 4,
      "outputs": []
    },
    {
      "cell_type": "code",
      "metadata": {
        "id": "4OyO78Fs3UQU",
        "colab_type": "code",
        "colab": {
          "base_uri": "https://localhost:8080/",
          "height": 265
        },
        "outputId": "35b16305-a7a4-4a9c-c40a-8cd4d37594ae"
      },
      "source": [
        "plt.scatter(df.beetle_density, df.pine_population)\n",
        "plt.plot(df.beetle_density, res.fittedvalues, color='red')\n",
        "plt.show()"
      ],
      "execution_count": 5,
      "outputs": [
        {
          "output_type": "display_data",
          "data": {
            "image/png": "[encoded data removed]",
            "text/plain": [
              "<Figure size 432x288 with 1 Axes>"
            ]
          },
          "metadata": {
            "tags": [],
            "needs_background": "light"
          }
        }
      ]
    },
    {
      "cell_type": "code",
      "metadata": {
        "id": "7LgGBUab3636",
        "colab_type": "code",
        "colab": {
          "base_uri": "https://localhost:8080/",
          "height": 279
        },
        "outputId": "abb31b5b-7be2-4902-84ff-fbe54bbf4b28"
      },
      "source": [
        "import statsmodels.api as sm\n",
        "sm.qqplot(res.resid);"
      ],
      "execution_count": 12,
      "outputs": [
        {
          "output_type": "display_data",
          "data": {
            "image/png": "[encoded data removed]",
            "text/plain": [
              "<Figure size 432x288 with 1 Axes>"
            ]
          },
          "metadata": {
            "tags": [],
            "needs_background": "light"
          }
        }
      ]
    },
    {
      "cell_type": "code",
      "metadata": {
        "id": "op_wTB5g4Wq2",
        "colab_type": "code",
        "colab": {
          "base_uri": "https://localhost:8080/",
          "height": 626
        },
        "outputId": "2ae573b3-a91b-4c2f-baa6-041e5c40f9fd"
      },
      "source": [
        "    print('Assumption: The error terms are normally distributed', '\\n')\n",
        "    \n",
        "    p_value_thresh=0.05\n",
        "    print('Using the Anderson-Darling test for normal distribution')\n",
        "\n",
        "    # Performing the test on the residuals\n",
        "    p_value = normal_ad(res.resid)[1]\n",
        "    print('p-value from the test - below 0.05 generally means non-normal:', p_value)\n",
        "    \n",
        "    # Reporting the normality of the residuals\n",
        "    if p_value < p_value_thresh:\n",
        "        print('Residuals are not normally distributed', '\\n')\n",
        "    else:\n",
        "        print('Residuals are normally distributed', '\\n')\n",
        "    \n",
        "    print('Using the Shapiro-Wilks test for normal distribution')\n",
        "    shapiro_test = shapiro(res.resid)\n",
        "    shapiro_test_stat=shapiro_test[0]\n",
        "    shapiro_test_pvalue=shapiro_test[1]\n",
        "    print('p-value from the test - below 0.05 generally means non-normal:', shapiro_test_pvalue)\n",
        "    \n",
        "    # Reporting the normality of the residuals\n",
        "    if shapiro_test_pvalue < p_value_thresh:\n",
        "        print('Residuals are not normally distributed')\n",
        "    else:\n",
        "        print('Residuals are normally distributed')\n",
        "\n",
        "    # Plotting the residuals distribution\n",
        "    plt.subplots(figsize=(12, 6))\n",
        "    plt.title('Distribution of Residuals')\n",
        "    sns.distplot(res.resid)\n",
        "    plt.show()\n",
        "    \n",
        "    print()\n",
        "    if p_value > p_value_thresh:\n",
        "        print('Assumption satisfied')\n",
        "    else:\n",
        "        print('Assumption not satisfied')\n",
        "        print()\n",
        "        print('Confidence intervals will likely be affected')\n",
        "        print('Try performing nonlinear transformations on variables')"
      ],
      "execution_count": 13,
      "outputs": [
        {
          "output_type": "stream",
          "text": [
            "Assumption: The error terms are normally distributed \n",
            "\n",
            "Using the Anderson-Darling test for normal distribution\n",
            "p-value from the test - below 0.05 generally means non-normal: 7.95111641042829e-05\n",
            "Residuals are not normally distributed \n",
            "\n",
            "Using the Shapiro-Wilks test for normal distribution\n",
            "p-value from the test - below 0.05 generally means non-normal: 0.00022804056061431766\n",
            "Residuals are not normally distributed\n"
          ],
          "name": "stdout"
        },
        {
          "output_type": "display_data",
          "data": {
            "image/png": "[encoded data removed]",
            "text/plain": [
              "<Figure size 864x432 with 1 Axes>"
            ]
          },
          "metadata": {
            "tags": [],
            "needs_background": "light"
          }
        },
        {
          "output_type": "stream",
          "text": [
            "\n",
            "Assumption not satisfied\n",
            "\n",
            "Confidence intervals will likely be affected\n",
            "Try performing nonlinear transformations on variables\n"
          ],
          "name": "stdout"
        }
      ]
    },
    {
      "cell_type": "code",
      "metadata": {
        "id": "r7TDm5qYFY_M",
        "colab_type": "code",
        "colab": {
          "base_uri": "https://localhost:8080/",
          "height": 50
        },
        "outputId": "2e575e06-63da-4be2-a433-60c58e784b73"
      },
      "source": [
        "corr, p = stats.spearmanr(df.pine_population, df.beetle_density)\n",
        "\n",
        "print('Correlation=%.3f, p=%.3f' % (corr, p))\n",
        "# interpretación\n",
        "alpha = 0.05\n",
        "if p > alpha:\n",
        "\tprint('No rechazamos H0: Correlación no significativa.')\n",
        "else:\n",
        "\tprint('Rechazamos H0: Correlación significativa.')"
      ],
      "execution_count": 14,
      "outputs": [
        {
          "output_type": "stream",
          "text": [
            "Correlation=0.367, p=0.020\n",
            "Rechazamos H0: Correlación significativa.\n"
          ],
          "name": "stdout"
        }
      ]
    }
  ]
}