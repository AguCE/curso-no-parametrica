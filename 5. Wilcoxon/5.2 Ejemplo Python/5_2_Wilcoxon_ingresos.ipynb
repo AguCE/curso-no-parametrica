{
  "nbformat": 4,
  "nbformat_minor": 0,
  "metadata": {
    "colab": {
      "name": "5.2.Wilcoxon_ingresos.ipynb",
      "provenance": []
    },
    "kernelspec": {
      "name": "python3",
      "display_name": "Python 3"
    }
  },
  "cells": [
    {
      "cell_type": "code",
      "metadata": {
        "id": "OKK9KLLhmaZI",
        "colab_type": "code",
        "colab": {}
      },
      "source": [
        "import numpy as np\n",
        "import pandas as pd\n",
        "import matplotlib.pyplot as plt\n",
        "import seaborn as sns\n",
        "from scipy import stats\n",
        "from scipy.stats import wilcoxon\n",
        "from statsmodels.stats.anova import AnovaRM"
      ],
      "execution_count": 102,
      "outputs": []
    },
    {
      "cell_type": "markdown",
      "metadata": {
        "id": "dn29YRMLn9lI",
        "colab_type": "text"
      },
      "source": [
        "#Datos de comparación de ingresos del primer y segundo trimestre en tiendas minoristas"
      ]
    },
    {
      "cell_type": "code",
      "metadata": {
        "id": "DU5bcmdpn2uy",
        "colab_type": "code",
        "colab": {}
      },
      "source": [
        "df=pd.read_csv('/content/revenuedata.csv')"
      ],
      "execution_count": 103,
      "outputs": []
    },
    {
      "cell_type": "code",
      "metadata": {
        "id": "DnwxJwiIn4EL",
        "colab_type": "code",
        "colab": {
          "base_uri": "https://localhost:8080/",
          "height": 204
        },
        "outputId": "94b01819-f6d5-4da1-c2b3-ffaf5c4b900f"
      },
      "source": [
        "df.head()"
      ],
      "execution_count": 104,
      "outputs": [
        {
          "output_type": "execute_result",
          "data": {
            "text/html": [
              "<div>\n",
              "<style scoped>\n",
              "    .dataframe tbody tr th:only-of-type {\n",
              "        vertical-align: middle;\n",
              "    }\n",
              "\n",
              "    .dataframe tbody tr th {\n",
              "        vertical-align: top;\n",
              "    }\n",
              "\n",
              "    .dataframe thead th {\n",
              "        text-align: right;\n",
              "    }\n",
              "</style>\n",
              "<table border=\"1\" class=\"dataframe\">\n",
              "  <thead>\n",
              "    <tr style=\"text-align: right;\">\n",
              "      <th></th>\n",
              "      <th>Q1</th>\n",
              "      <th>Q2</th>\n",
              "    </tr>\n",
              "  </thead>\n",
              "  <tbody>\n",
              "    <tr>\n",
              "      <th>0</th>\n",
              "      <td>528819.0</td>\n",
              "      <td>329778.0</td>\n",
              "    </tr>\n",
              "    <tr>\n",
              "      <th>1</th>\n",
              "      <td>1263689.0</td>\n",
              "      <td>504738.0</td>\n",
              "    </tr>\n",
              "    <tr>\n",
              "      <th>2</th>\n",
              "      <td>1172512.0</td>\n",
              "      <td>989454.0</td>\n",
              "    </tr>\n",
              "    <tr>\n",
              "      <th>3</th>\n",
              "      <td>1647341.0</td>\n",
              "      <td>1465183.0</td>\n",
              "    </tr>\n",
              "    <tr>\n",
              "      <th>4</th>\n",
              "      <td>528419.0</td>\n",
              "      <td>351158.0</td>\n",
              "    </tr>\n",
              "  </tbody>\n",
              "</table>\n",
              "</div>"
            ],
            "text/plain": [
              "          Q1         Q2\n",
              "0   528819.0   329778.0\n",
              "1  1263689.0   504738.0\n",
              "2  1172512.0   989454.0\n",
              "3  1647341.0  1465183.0\n",
              "4   528419.0   351158.0"
            ]
          },
          "metadata": {
            "tags": []
          },
          "execution_count": 104
        }
      ]
    },
    {
      "cell_type": "code",
      "metadata": {
        "id": "WaYjmZI1WoRJ",
        "colab_type": "code",
        "colab": {
          "base_uri": "https://localhost:8080/",
          "height": 51
        },
        "outputId": "9e17010a-043c-4500-d496-0b12549c8e1b"
      },
      "source": [
        "# comparar las muestras \n",
        "stat, p = wilcoxon(df.Q1, df.Q2,alternative='two-sided')\n",
        "print('Statistics=%.3f, p=%.3f' % (stat, p))\n",
        "# interpretación\n",
        "alpha = 0.05\n",
        "if p > alpha:\n",
        "\tprint('No rechazamos H0: No hay diferencias significativas')\n",
        "else:\n",
        "\tprint('Rechazamos H0: Hay diferencias significativas')"
      ],
      "execution_count": 165,
      "outputs": [
        {
          "output_type": "stream",
          "text": [
            "Statistics=32.000, p=0.020\n",
            "Rechazamos H0: Hay diferencias significativas\n"
          ],
          "name": "stdout"
        }
      ]
    },
    {
      "cell_type": "code",
      "metadata": {
        "id": "UUYYYtbWbBN-",
        "colab_type": "code",
        "colab": {
          "base_uri": "https://localhost:8080/",
          "height": 34
        },
        "outputId": "142d5a68-c3a5-4e40-c9a9-683d6829b978"
      },
      "source": [
        "print(df.Q1.mean(),df.Q2.mean())"
      ],
      "execution_count": 166,
      "outputs": [
        {
          "output_type": "stream",
          "text": [
            "941415.1666666666 788682.7777777778\n"
          ],
          "name": "stdout"
        }
      ]
    },
    {
      "cell_type": "code",
      "metadata": {
        "id": "Au-YxK62a98S",
        "colab_type": "code",
        "colab": {
          "base_uri": "https://localhost:8080/",
          "height": 51
        },
        "outputId": "3a0cf838-3ec8-4da6-f162-83256bc5fee2"
      },
      "source": [
        "# comparar las muestras \n",
        "stat, p = wilcoxon(df.Q1, df.Q2,alternative='greater')\n",
        "print('Statistics=%.3f, p=%.3f' % (stat, p))\n",
        "# interpretación\n",
        "alpha = 0.05\n",
        "if p > alpha:\n",
        "\tprint('No rechazamos H0: No hay diferencias significativas')\n",
        "else:\n",
        "\tprint('Rechazamos H0: Hay diferencias significativas')"
      ],
      "execution_count": 167,
      "outputs": [
        {
          "output_type": "stream",
          "text": [
            "Statistics=139.000, p=0.010\n",
            "Rechazamos H0: Hay diferencias significativas\n"
          ],
          "name": "stdout"
        }
      ]
    }
  ]
}