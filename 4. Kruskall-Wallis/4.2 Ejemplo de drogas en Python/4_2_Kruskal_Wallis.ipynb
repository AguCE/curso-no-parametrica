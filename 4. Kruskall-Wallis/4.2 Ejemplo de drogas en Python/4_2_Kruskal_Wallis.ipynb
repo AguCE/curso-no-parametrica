{
  "nbformat": 4,
  "nbformat_minor": 0,
  "metadata": {
    "colab": {
      "name": "4.2.Kruskal-Wallis.ipynb",
      "provenance": []
    },
    "kernelspec": {
      "name": "python3",
      "display_name": "Python 3"
    }
  },
  "cells": [
    {
      "cell_type": "code",
      "metadata": {
        "id": "SkDeqbT24Z6e",
        "colab_type": "code",
        "colab": {}
      },
      "source": [
        "import numpy as np\n",
        "import pandas as pd\n",
        "import matplotlib.pyplot as plt\n",
        "import seaborn as sns\n",
        "from scipy import stats\n",
        "from scipy.stats import mannwhitneyu\n",
        "from scipy.stats import kruskal"
      ],
      "execution_count": 41,
      "outputs": []
    },
    {
      "cell_type": "markdown",
      "metadata": {
        "id": "xYRfG-UFoSUZ",
        "colab_type": "text"
      },
      "source": [
        "Los datos son sobre un estudio de drogas en el que comparamos las clasificaciones de dolor en cuatro grupos de dosificación diferentes. \n",
        "\n",
        "*   Valor 1: 100mg\n",
        "*   Valor 2: 250mg\n",
        "*   Valor 3: 500mg\n",
        "*   Valor 4: 1000mg\n",
        "\n",
        "A los 38 participantes de este estudio se le administra la droga en alguna de esas cantidades y luego se pide que califique su dolor en una escala del uno al siete donde 1 es poco dolor y 7 es mucho dolor. \n"
      ]
    },
    {
      "cell_type": "code",
      "metadata": {
        "id": "1NE5FNHWlOxS",
        "colab_type": "code",
        "colab": {}
      },
      "source": [
        "df=pd.read_csv('/content/drugstudy.csv')"
      ],
      "execution_count": 2,
      "outputs": []
    },
    {
      "cell_type": "code",
      "metadata": {
        "id": "ieuPE7tinl33",
        "colab_type": "code",
        "colab": {
          "base_uri": "https://localhost:8080/",
          "height": 204
        },
        "outputId": "69a819e3-4ab9-498b-ccc7-834e1d1ec306"
      },
      "source": [
        "df.head()"
      ],
      "execution_count": 3,
      "outputs": [
        {
          "output_type": "execute_result",
          "data": {
            "text/html": [
              "<div>\n",
              "<style scoped>\n",
              "    .dataframe tbody tr th:only-of-type {\n",
              "        vertical-align: middle;\n",
              "    }\n",
              "\n",
              "    .dataframe tbody tr th {\n",
              "        vertical-align: top;\n",
              "    }\n",
              "\n",
              "    .dataframe thead th {\n",
              "        text-align: right;\n",
              "    }\n",
              "</style>\n",
              "<table border=\"1\" class=\"dataframe\">\n",
              "  <thead>\n",
              "    <tr style=\"text-align: right;\">\n",
              "      <th></th>\n",
              "      <th>dose</th>\n",
              "      <th>rating</th>\n",
              "    </tr>\n",
              "  </thead>\n",
              "  <tbody>\n",
              "    <tr>\n",
              "      <th>0</th>\n",
              "      <td>1.0</td>\n",
              "      <td>6.0</td>\n",
              "    </tr>\n",
              "    <tr>\n",
              "      <th>1</th>\n",
              "      <td>1.0</td>\n",
              "      <td>4.0</td>\n",
              "    </tr>\n",
              "    <tr>\n",
              "      <th>2</th>\n",
              "      <td>1.0</td>\n",
              "      <td>6.0</td>\n",
              "    </tr>\n",
              "    <tr>\n",
              "      <th>3</th>\n",
              "      <td>1.0</td>\n",
              "      <td>5.0</td>\n",
              "    </tr>\n",
              "    <tr>\n",
              "      <th>4</th>\n",
              "      <td>1.0</td>\n",
              "      <td>4.0</td>\n",
              "    </tr>\n",
              "  </tbody>\n",
              "</table>\n",
              "</div>"
            ],
            "text/plain": [
              "   dose  rating\n",
              "0   1.0     6.0\n",
              "1   1.0     4.0\n",
              "2   1.0     6.0\n",
              "3   1.0     5.0\n",
              "4   1.0     4.0"
            ]
          },
          "metadata": {
            "tags": []
          },
          "execution_count": 3
        }
      ]
    },
    {
      "cell_type": "code",
      "metadata": {
        "id": "bMQFaANTneKy",
        "colab_type": "code",
        "colab": {}
      },
      "source": [
        "group1=df[df.dose==1.0]\n",
        "group2=df[df.dose==2.0]\n",
        "group3=df[df.dose==3.0]\n",
        "group4=df[df.dose==4.0]"
      ],
      "execution_count": 4,
      "outputs": []
    },
    {
      "cell_type": "markdown",
      "metadata": {
        "id": "GuUXuiC_oJMA",
        "colab_type": "text"
      },
      "source": [
        "# Comparando los 4 grupos con la prueba Kruskal-Wallis"
      ]
    },
    {
      "cell_type": "code",
      "metadata": {
        "id": "PwTLdN1CssiW",
        "colab_type": "code",
        "colab": {
          "base_uri": "https://localhost:8080/",
          "height": 221
        },
        "outputId": "b481ecf3-cd7c-462c-90e2-bb210dcc49c4"
      },
      "source": [
        "group1.rating"
      ],
      "execution_count": 44,
      "outputs": [
        {
          "output_type": "execute_result",
          "data": {
            "text/plain": [
              "0     6.0\n",
              "1     4.0\n",
              "2     6.0\n",
              "3     5.0\n",
              "4     4.0\n",
              "5     3.0\n",
              "6     7.0\n",
              "7     7.0\n",
              "8     6.0\n",
              "9     4.0\n",
              "10    4.0\n",
              "Name: rating, dtype: float64"
            ]
          },
          "metadata": {
            "tags": []
          },
          "execution_count": 44
        }
      ]
    },
    {
      "cell_type": "code",
      "metadata": {
        "id": "6c7bj_9-LjLZ",
        "colab_type": "code",
        "colab": {
          "base_uri": "https://localhost:8080/",
          "height": 51
        },
        "outputId": "79fa39ba-537f-4ceb-d7a5-2d421931562e"
      },
      "source": [
        "stat, p = kruskal(group1, group2, group3, group4)\n",
        "print('Statistics=%.3f, p=%.3f' % (stat, p))\n",
        "# Interpretación\n",
        "alpha = 0.05\n",
        "if p > alpha:\n",
        "\tprint('No rechazamos H0: No hay diferencias significativas entre los grupos.')\n",
        "else:\n",
        "\tprint('Rechazamos H0: Hay diferencias significativas entre los grupos.')"
      ],
      "execution_count": 6,
      "outputs": [
        {
          "output_type": "stream",
          "text": [
            "Statistics=298.284, p=0.000\n",
            "Rechazamos H0: Hay diferencias significativas entre los grupos.\n"
          ],
          "name": "stdout"
        }
      ]
    },
    {
      "cell_type": "markdown",
      "metadata": {
        "id": "vR1UtYfMoIxo",
        "colab_type": "text"
      },
      "source": [
        "# Comparando los pares de grupos con la prueba Mann-Whitney"
      ]
    },
    {
      "cell_type": "markdown",
      "metadata": {
        "id": "u_6eLaIXt5eY",
        "colab_type": "text"
      },
      "source": [
        "Lo que esperamos que pase es que mientras más alta sea la dosis menor dolor tendrá el paciente, así por ejemplo muy probablemente el grupo 4 (que tiene la mayor dosis) tendrá en la variable \"rating\" valores más pequeños porque los pacientes posiblemente reportarán menor dolor al haber recibido la mayor dosis del medicamento. Pero en las diferentes combinaciones entre estos 4 grupos ( 6 combinaciones) no sabemos muy bien lo que puede pasar, entonces lo que vamos a investigar es si hay diferencia significativa sin importar si se reporta menor o mayor dolor, es decir, que pondremos como hipótesis alternatica \"two-sided\" que significa que estamos considerando ambas posibilidades pero que al fin y al cabo el que se cumpla cualquiera de ellas quiere decir que hay diferencia significativa que es lo que nos interesa saber. "
      ]
    },
    {
      "cell_type": "code",
      "metadata": {
        "id": "6MyRr38uqCPZ",
        "colab_type": "code",
        "colab": {
          "base_uri": "https://localhost:8080/",
          "height": 34
        },
        "outputId": "1956c2d7-bffc-4766-a340-a17dcdac9603"
      },
      "source": [
        "# Bonferroni: 6 comparaciones\n",
        "alpha_new=0.05/6\n",
        "alpha_new"
      ],
      "execution_count": 14,
      "outputs": [
        {
          "output_type": "execute_result",
          "data": {
            "text/plain": [
              "0.008333333333333333"
            ]
          },
          "metadata": {
            "tags": []
          },
          "execution_count": 14
        }
      ]
    },
    {
      "cell_type": "code",
      "metadata": {
        "id": "WU27HiQAo2S9",
        "colab_type": "code",
        "colab": {
          "base_uri": "https://localhost:8080/",
          "height": 51
        },
        "outputId": "c3e24353-b7b6-4bc8-e8c7-ac53a443f479"
      },
      "source": [
        "stat, p = mannwhitneyu(group1.rating, group2.rating,alternative='two-sided')\n",
        "print('p-value:', p)\n",
        "if p > alpha_new:\n",
        "\tprint('No rechazamos H0: No hay diferencias significativas entre los grupos 1 y 2.')\n",
        "else:\n",
        "\tprint('Rechazamos H0: Hay diferencias significativas entre los grupos 1 y 2.')"
      ],
      "execution_count": 88,
      "outputs": [
        {
          "output_type": "stream",
          "text": [
            "p-value: 0.009911377465815045\n",
            "No rechazamos H0: No hay diferencias significativas entre los grupos 1 y 2.\n"
          ],
          "name": "stdout"
        }
      ]
    },
    {
      "cell_type": "code",
      "metadata": {
        "id": "SAhZ_vfuo6jl",
        "colab_type": "code",
        "colab": {
          "base_uri": "https://localhost:8080/",
          "height": 51
        },
        "outputId": "57dcd4c8-a831-49d6-9fbf-77ea863e90eb"
      },
      "source": [
        "stat, p = mannwhitneyu(group1.rating, group3.rating,alternative='two-sided')\n",
        "print('p-value:', p)\n",
        "if p > alpha_new:\n",
        "\tprint('No rechazamos H0: No hay diferencias significativas entre los grupos 1 y 3.')\n",
        "else:\n",
        "\tprint('Rechazamos H0: Hay diferencias significativas entre los grupos 1 y 3.')"
      ],
      "execution_count": 80,
      "outputs": [
        {
          "output_type": "stream",
          "text": [
            "p-value: 0.00039457325940790667\n",
            "Rechazamos H0: Hay diferencias significativas entre los grupos 1 y 3.\n"
          ],
          "name": "stdout"
        }
      ]
    },
    {
      "cell_type": "code",
      "metadata": {
        "id": "x5Ogh2BAo7B3",
        "colab_type": "code",
        "colab": {
          "base_uri": "https://localhost:8080/",
          "height": 51
        },
        "outputId": "13dfe7d3-47a7-4813-c087-f14c2ef0b2b4"
      },
      "source": [
        "stat, p = mannwhitneyu(group1.rating, group4.rating,alternative='two-sided')\n",
        "print('p-value:', p)\n",
        "if p > alpha_new:\n",
        "\tprint('No rechazamos H0: No hay diferencias significativas entre los grupos 1 y 4.')\n",
        "else:\n",
        "\tprint('Rechazamos H0: Hay diferencias significativas entre los grupos 1 y 4.')"
      ],
      "execution_count": 79,
      "outputs": [
        {
          "output_type": "stream",
          "text": [
            "p-value: 0.0010607936166658369\n",
            "Rechazamos H0: Hay diferencias significativas entre los grupos 1 y 4.\n"
          ],
          "name": "stdout"
        }
      ]
    },
    {
      "cell_type": "code",
      "metadata": {
        "id": "_wO9jyzco7Tq",
        "colab_type": "code",
        "colab": {
          "base_uri": "https://localhost:8080/",
          "height": 51
        },
        "outputId": "199a8a95-6d2f-41d8-cf83-4487fde21466"
      },
      "source": [
        "stat, p = mannwhitneyu(group2.rating, group3.rating,alternative='two-sided')\n",
        "print('p-value:', p)\n",
        "if p > alpha_new:\n",
        "\tprint('No rechazamos H0: No hay diferencias significativas entre los grupos 2 y 3.')\n",
        "else:\n",
        "\tprint('Rechazamos H0: Hay diferencias significativas entre los grupos 2 y 3.')"
      ],
      "execution_count": 78,
      "outputs": [
        {
          "output_type": "stream",
          "text": [
            "p-value: 0.07441228142144751\n",
            "No rechazamos H0: No hay diferencias significativas entre los grupos 2 y 3.\n"
          ],
          "name": "stdout"
        }
      ]
    },
    {
      "cell_type": "code",
      "metadata": {
        "id": "AURAKwJopCnQ",
        "colab_type": "code",
        "colab": {
          "base_uri": "https://localhost:8080/",
          "height": 51
        },
        "outputId": "3b02ac65-6a8d-4341-8a99-c0607e8c3f4d"
      },
      "source": [
        "stat, p = mannwhitneyu(group2.rating, group4.rating,alternative='two-sided')\n",
        "print('p-value:', p)\n",
        "if p > alpha_new:\n",
        "\tprint('No rechazamos H0: No hay diferencias significativas entre los grupos 2 y 4.')\n",
        "else:\n",
        "\tprint('Rechazamos H0: Hay diferencias significativas entre los grupos 2 y 4.')"
      ],
      "execution_count": 77,
      "outputs": [
        {
          "output_type": "stream",
          "text": [
            "p-value: 0.09993509549720665\n",
            "No rechazamos H0: No hay diferencias significativas entre los grupos 2 y 4.\n"
          ],
          "name": "stdout"
        }
      ]
    },
    {
      "cell_type": "code",
      "metadata": {
        "id": "GOV-akKFpEPm",
        "colab_type": "code",
        "colab": {
          "base_uri": "https://localhost:8080/",
          "height": 51
        },
        "outputId": "7348f723-e613-46b2-c88c-b2bded5c8c42"
      },
      "source": [
        "stat, p = mannwhitneyu(group3.rating, group4.rating,alternative='two-sided')\n",
        "print('p-value:', p)\n",
        "if p > alpha_new:\n",
        "\tprint('No rechazamos H0: No hay diferencias significativas entre los grupos 3 y 4.')\n",
        "else:\n",
        "\tprint('Rechazamos H0: Hay diferencias significativas entre los grupos 3 y 4.')"
      ],
      "execution_count": 76,
      "outputs": [
        {
          "output_type": "stream",
          "text": [
            "p-value: 1.0\n",
            "No rechazamos H0: No hay diferencias significativas entre los grupos 3 y 4.\n"
          ],
          "name": "stdout"
        }
      ]
    },
    {
      "cell_type": "markdown",
      "metadata": {
        "id": "KlfGUkbByLD_",
        "colab_type": "text"
      },
      "source": [
        "# Conclusión\n",
        "Según la prueba de Kruskal-Wallis de comparación de grupos independientes existen diferencias significativas entre los valores reportados de dolor de acuerdo a la dosis recibida del medicamento.\n",
        "\n",
        "Según las pruebas Mann-Whitney de pares de grupos hay diferencias significativas entre los grupos:\n",
        "\n",
        "\n",
        "*   1 y 3 (100mg vs 500mg)\n",
        "*   1 y 4 (100mg vs 1000mg)\n",
        "\n",
        "El dolor reportado por los pacientes no difiere significativamente entre los grupos que tomaron dosis de 250mg, 500mg y 1000mg.\n"
      ]
    }
  ]
}