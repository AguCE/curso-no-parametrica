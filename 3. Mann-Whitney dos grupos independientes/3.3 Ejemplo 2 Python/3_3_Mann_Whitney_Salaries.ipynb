{
  "nbformat": 4,
  "nbformat_minor": 0,
  "metadata": {
    "colab": {
      "name": "3.3.Mann_Whitney_Salaries.ipynb",
      "provenance": []
    },
    "kernelspec": {
      "name": "python3",
      "display_name": "Python 3"
    }
  },
  "cells": [
    {
      "cell_type": "code",
      "metadata": {
        "id": "0SoFVHuNcz8m",
        "colab_type": "code",
        "colab": {}
      },
      "source": [
        "import pandas as pd\n",
        "import matplotlib.pyplot as plt\n",
        "import seaborn as sns\n",
        "from scipy import stats\n",
        "from scipy.stats import mannwhitneyu\n",
        "from statsmodels.stats.diagnostic import normal_ad\n",
        "from scipy.stats import shapiro"
      ],
      "execution_count": 13,
      "outputs": []
    },
    {
      "cell_type": "code",
      "metadata": {
        "id": "8ct0FEH0rwV-",
        "colab_type": "code",
        "colab": {}
      },
      "source": [
        "df=pd.read_csv('/content/salaries.csv')"
      ],
      "execution_count": 2,
      "outputs": []
    },
    {
      "cell_type": "markdown",
      "metadata": {
        "id": "45evJu54y95a",
        "colab_type": "text"
      },
      "source": [
        "Esta variable es de tipo ratio por lo cual antes de ir directamente a pruebas no paramétricas debemos verificar normalidad de los residuos porque si esto se cumple podemos usar pruebas paramétricas. En el ejemplo anterior no porque teníamos que la variable dependiente era ordinal."
      ]
    },
    {
      "cell_type": "code",
      "metadata": {
        "id": "mC1yajs7rzZ5",
        "colab_type": "code",
        "colab": {
          "base_uri": "https://localhost:8080/",
          "height": 204
        },
        "outputId": "999cde1a-9abc-48c7-9c53-d6328898bbdb"
      },
      "source": [
        "df.head()"
      ],
      "execution_count": 3,
      "outputs": [
        {
          "output_type": "execute_result",
          "data": {
            "text/html": [
              "<div>\n",
              "<style scoped>\n",
              "    .dataframe tbody tr th:only-of-type {\n",
              "        vertical-align: middle;\n",
              "    }\n",
              "\n",
              "    .dataframe tbody tr th {\n",
              "        vertical-align: top;\n",
              "    }\n",
              "\n",
              "    .dataframe thead th {\n",
              "        text-align: right;\n",
              "    }\n",
              "</style>\n",
              "<table border=\"1\" class=\"dataframe\">\n",
              "  <thead>\n",
              "    <tr style=\"text-align: right;\">\n",
              "      <th></th>\n",
              "      <th>Salary</th>\n",
              "      <th>Position</th>\n",
              "    </tr>\n",
              "  </thead>\n",
              "  <tbody>\n",
              "    <tr>\n",
              "      <th>0</th>\n",
              "      <td>57727.0</td>\n",
              "      <td>2.0</td>\n",
              "    </tr>\n",
              "    <tr>\n",
              "      <th>1</th>\n",
              "      <td>39907.0</td>\n",
              "      <td>1.0</td>\n",
              "    </tr>\n",
              "    <tr>\n",
              "      <th>2</th>\n",
              "      <td>46659.0</td>\n",
              "      <td>2.0</td>\n",
              "    </tr>\n",
              "    <tr>\n",
              "      <th>3</th>\n",
              "      <td>40233.0</td>\n",
              "      <td>1.0</td>\n",
              "    </tr>\n",
              "    <tr>\n",
              "      <th>4</th>\n",
              "      <td>42198.0</td>\n",
              "      <td>1.0</td>\n",
              "    </tr>\n",
              "  </tbody>\n",
              "</table>\n",
              "</div>"
            ],
            "text/plain": [
              "    Salary  Position\n",
              "0  57727.0       2.0\n",
              "1  39907.0       1.0\n",
              "2  46659.0       2.0\n",
              "3  40233.0       1.0\n",
              "4  42198.0       1.0"
            ]
          },
          "metadata": {
            "tags": []
          },
          "execution_count": 3
        }
      ]
    },
    {
      "cell_type": "code",
      "metadata": {
        "id": "D5AxJY3br1pM",
        "colab_type": "code",
        "colab": {
          "base_uri": "https://localhost:8080/",
          "height": 204
        },
        "outputId": "5d2bd730-ed1c-413b-f418-caa978da3710"
      },
      "source": [
        "group1=df[df.Position==1.0]\n",
        "group2=df[df.Position==2.0]\n",
        "group1.head()"
      ],
      "execution_count": 4,
      "outputs": [
        {
          "output_type": "execute_result",
          "data": {
            "text/html": [
              "<div>\n",
              "<style scoped>\n",
              "    .dataframe tbody tr th:only-of-type {\n",
              "        vertical-align: middle;\n",
              "    }\n",
              "\n",
              "    .dataframe tbody tr th {\n",
              "        vertical-align: top;\n",
              "    }\n",
              "\n",
              "    .dataframe thead th {\n",
              "        text-align: right;\n",
              "    }\n",
              "</style>\n",
              "<table border=\"1\" class=\"dataframe\">\n",
              "  <thead>\n",
              "    <tr style=\"text-align: right;\">\n",
              "      <th></th>\n",
              "      <th>Salary</th>\n",
              "      <th>Position</th>\n",
              "    </tr>\n",
              "  </thead>\n",
              "  <tbody>\n",
              "    <tr>\n",
              "      <th>1</th>\n",
              "      <td>39907.0</td>\n",
              "      <td>1.0</td>\n",
              "    </tr>\n",
              "    <tr>\n",
              "      <th>3</th>\n",
              "      <td>40233.0</td>\n",
              "      <td>1.0</td>\n",
              "    </tr>\n",
              "    <tr>\n",
              "      <th>4</th>\n",
              "      <td>42198.0</td>\n",
              "      <td>1.0</td>\n",
              "    </tr>\n",
              "    <tr>\n",
              "      <th>6</th>\n",
              "      <td>40324.0</td>\n",
              "      <td>1.0</td>\n",
              "    </tr>\n",
              "    <tr>\n",
              "      <th>8</th>\n",
              "      <td>36792.0</td>\n",
              "      <td>1.0</td>\n",
              "    </tr>\n",
              "  </tbody>\n",
              "</table>\n",
              "</div>"
            ],
            "text/plain": [
              "    Salary  Position\n",
              "1  39907.0       1.0\n",
              "3  40233.0       1.0\n",
              "4  42198.0       1.0\n",
              "6  40324.0       1.0\n",
              "8  36792.0       1.0"
            ]
          },
          "metadata": {
            "tags": []
          },
          "execution_count": 4
        }
      ]
    },
    {
      "cell_type": "code",
      "metadata": {
        "id": "Cxnct8PKsOXY",
        "colab_type": "code",
        "colab": {}
      },
      "source": [
        "mean1=group1.Salary.mean() \n",
        "mean2=group2.Salary.mean() \n",
        "res1=group1.Salary - mean1\n",
        "res2=group2.Salary - mean2"
      ],
      "execution_count": 6,
      "outputs": []
    },
    {
      "cell_type": "code",
      "metadata": {
        "id": "J_ZUMMZtxutO",
        "colab_type": "code",
        "colab": {
          "base_uri": "https://localhost:8080/",
          "height": 1000
        },
        "outputId": "ffee76de-de72-40f6-bfef-66e87bc8a6cb"
      },
      "source": [
        "# Performing the test on the residuals\n",
        "p_value_thresh=0.05\n",
        "print('------------------Sales------------------','\\n')\n",
        "     \n",
        "print('Using the Anderson-Darling test for normal distribution')\n",
        "        \n",
        "p_value = normal_ad(res1)[1]\n",
        "print('p-value from the test - below 0.05 generally means non-normal:', p_value)\n",
        "    \n",
        "# Reporting the normality of the residuals\n",
        "if p_value < p_value_thresh:\n",
        "  print('Residuals are not normally distributed', '\\n')\n",
        "else:\n",
        "  print('Residuals are normally distributed', '\\n')\n",
        "    \n",
        "print('Using the Shapiro-Wilks test for normal distribution')\n",
        "shapiro_test = shapiro(res1)\n",
        "shapiro_test_stat=shapiro_test[0]\n",
        "shapiro_test_pvalue=shapiro_test[1]\n",
        "print('p-value from the test - below 0.05 generally means non-normal:', shapiro_test_pvalue)\n",
        "    \n",
        "# Reporting the normality of the residuals\n",
        "if shapiro_test_pvalue < p_value_thresh:\n",
        "  print('Residuals are not normally distributed')\n",
        "else:\n",
        "  print('Residuals are normally distributed')\n",
        "\n",
        "# Plotting the residuals distribution\n",
        "plt.subplots(figsize=(12, 6))\n",
        "plt.title('Distribution of Residuals')\n",
        "sns.distplot(res1)\n",
        "plt.show()\n",
        "    \n",
        "print()\n",
        "if p_value > p_value_thresh:\n",
        "  print('Assumption satisfied', '\\n')\n",
        "else:\n",
        "  print('Assumption not satisfied')\n",
        "  print()\n",
        "  print('Confidence intervals will likely be affected')\n",
        "  print('Try performing nonlinear transformations on variables', '\\n')\n",
        "\n",
        "#################################################################################################\n",
        "# Performing the test on the residuals\n",
        "p_value_thresh=0.05\n",
        "print('------------------Manager------------------','\\n')\n",
        "     \n",
        "print('Using the Anderson-Darling test for normal distribution')\n",
        "        \n",
        "p_value = normal_ad(res2)[1]\n",
        "print('p-value from the test - below 0.05 generally means non-normal:', p_value)\n",
        "    \n",
        "# Reporting the normality of the residuals\n",
        "if p_value < p_value_thresh:\n",
        "  print('Residuals are not normally distributed', '\\n')\n",
        "else:\n",
        "  print('Residuals are normally distributed', '\\n')\n",
        "    \n",
        "print('Using the Shapiro-Wilks test for normal distribution')\n",
        "shapiro_test = stats.shapiro(res2)\n",
        "shapiro_test_stat=shapiro_test[0]\n",
        "shapiro_test_pvalue=shapiro_test[1]\n",
        "print('p-value from the test - below 0.05 generally means non-normal:', shapiro_test_pvalue)\n",
        "    \n",
        "# Reporting the normality of the residuals\n",
        "if shapiro_test_pvalue < p_value_thresh:\n",
        "  print('Residuals are not normally distributed')\n",
        "else:\n",
        "  print('Residuals are normally distributed')\n",
        "\n",
        "# Plotting the residuals distribution\n",
        "plt.subplots(figsize=(12, 6))\n",
        "plt.title('Distribution of Residuals')\n",
        "sns.distplot(res2)\n",
        "plt.show()\n",
        "    \n",
        "print()\n",
        "if p_value > p_value_thresh:\n",
        "  print('Assumption satisfied')\n",
        "else:\n",
        "  print('Assumption not satisfied')\n",
        "  print()\n",
        "  print('Confidence intervals will likely be affected')\n",
        "  print('Try performing nonlinear transformations on variables')"
      ],
      "execution_count": 15,
      "outputs": [
        {
          "output_type": "stream",
          "text": [
            "------------------Sales------------------ \n",
            "\n",
            "Using the Anderson-Darling test for normal distribution\n",
            "p-value from the test - below 0.05 generally means non-normal: 0.04433400312544433\n",
            "Residuals are not normally distributed \n",
            "\n",
            "Using the Shapiro-Wilks test for normal distribution\n",
            "p-value from the test - below 0.05 generally means non-normal: 0.049376845359802246\n",
            "Residuals are not normally distributed\n"
          ],
          "name": "stdout"
        },
        {
          "output_type": "display_data",
          "data": {
            "image/png": "[encoded data removed]",
            "text/plain": [
              "<Figure size 864x432 with 1 Axes>"
            ]
          },
          "metadata": {
            "tags": [],
            "needs_background": "light"
          }
        },
        {
          "output_type": "stream",
          "text": [
            "\n",
            "Assumption not satisfied\n",
            "\n",
            "Confidence intervals will likely be affected\n",
            "Try performing nonlinear transformations on variables \n",
            "\n",
            "------------------Manager------------------ \n",
            "\n",
            "Using the Anderson-Darling test for normal distribution\n",
            "p-value from the test - below 0.05 generally means non-normal: 0.6866418530842298\n",
            "Residuals are normally distributed \n",
            "\n",
            "Using the Shapiro-Wilks test for normal distribution\n",
            "p-value from the test - below 0.05 generally means non-normal: 0.5692880153656006\n",
            "Residuals are normally distributed\n"
          ],
          "name": "stdout"
        },
        {
          "output_type": "display_data",
          "data": {
            "image/png": "[encoded data removed]",
            "text/plain": [
              "<Figure size 864x432 with 1 Axes>"
            ]
          },
          "metadata": {
            "tags": [],
            "needs_background": "light"
          }
        },
        {
          "output_type": "stream",
          "text": [
            "\n",
            "Assumption satisfied\n"
          ],
          "name": "stdout"
        }
      ]
    },
    {
      "cell_type": "code",
      "metadata": {
        "id": "sjAf0k-xr6E1",
        "colab_type": "code",
        "colab": {
          "base_uri": "https://localhost:8080/",
          "height": 34
        },
        "outputId": "d4368158-b009-46c7-9cb7-98d45e7c28fc"
      },
      "source": [
        "stat, p = mannwhitneyu(group1.Salary, group2.Salary,alternative='less')\n",
        "print('p-value:', p)"
      ],
      "execution_count": 5,
      "outputs": [
        {
          "output_type": "stream",
          "text": [
            "p-value: 0.0014136360455584039\n"
          ],
          "name": "stdout"
        }
      ]
    },
    {
      "cell_type": "markdown",
      "metadata": {
        "id": "zFRlYpAlztWS",
        "colab_type": "text"
      },
      "source": [
        "p-valor < 0.05 entonces hay una diferencia significativa entre los sueldos del personal de Ventas y de los Gerentes, es decir, los Gerentes tienen un sueldo significativamente mayor que el personal de Ventas."
      ]
    }
  ]
}