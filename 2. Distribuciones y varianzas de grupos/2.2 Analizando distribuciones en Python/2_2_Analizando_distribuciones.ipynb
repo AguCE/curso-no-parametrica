{
  "nbformat": 4,
  "nbformat_minor": 0,
  "metadata": {
    "colab": {
      "name": "2.2.Analizando_distribuciones.ipynb",
      "provenance": []
    },
    "kernelspec": {
      "name": "python3",
      "display_name": "Python 3"
    }
  },
  "cells": [
    {
      "cell_type": "code",
      "metadata": {
        "id": "TKZ5NBGhx_6k",
        "colab_type": "code",
        "colab": {}
      },
      "source": [
        "import pandas as pd\n",
        "import seaborn as sns\n",
        "import numpy as np\n",
        "import matplotlib.pyplot as plt\n",
        "from sklearn.linear_model import LinearRegression\n",
        "from scipy import stats\n",
        "from statsmodels.stats.diagnostic import normal_ad\n",
        "from scipy.stats import shapiro\n"
      ],
      "execution_count": 3,
      "outputs": []
    },
    {
      "cell_type": "code",
      "metadata": {
        "id": "G7M-BU1tB28M",
        "colab_type": "code",
        "colab": {}
      },
      "source": [
        "df=pd.read_csv('./notasmatesingles.csv')"
      ],
      "execution_count": 4,
      "outputs": []
    },
    {
      "cell_type": "code",
      "metadata": {
        "id": "KbiHP_KCyJUR",
        "colab_type": "code",
        "colab": {
          "base_uri": "https://localhost:8080/",
          "height": 204
        },
        "outputId": "0e96efba-dab7-430a-e4d1-e3790563027c"
      },
      "source": [
        "df.head()"
      ],
      "execution_count": 5,
      "outputs": [
        {
          "output_type": "execute_result",
          "data": {
            "text/html": [
              "<div>\n",
              "<style scoped>\n",
              "    .dataframe tbody tr th:only-of-type {\n",
              "        vertical-align: middle;\n",
              "    }\n",
              "\n",
              "    .dataframe tbody tr th {\n",
              "        vertical-align: top;\n",
              "    }\n",
              "\n",
              "    .dataframe thead th {\n",
              "        text-align: right;\n",
              "    }\n",
              "</style>\n",
              "<table border=\"1\" class=\"dataframe\">\n",
              "  <thead>\n",
              "    <tr style=\"text-align: right;\">\n",
              "      <th></th>\n",
              "      <th>Matematicas</th>\n",
              "      <th>Ingles</th>\n",
              "    </tr>\n",
              "  </thead>\n",
              "  <tbody>\n",
              "    <tr>\n",
              "      <th>0</th>\n",
              "      <td>80.0</td>\n",
              "      <td>77.0</td>\n",
              "    </tr>\n",
              "    <tr>\n",
              "      <th>1</th>\n",
              "      <td>78.0</td>\n",
              "      <td>67.0</td>\n",
              "    </tr>\n",
              "    <tr>\n",
              "      <th>2</th>\n",
              "      <td>90.0</td>\n",
              "      <td>77.0</td>\n",
              "    </tr>\n",
              "    <tr>\n",
              "      <th>3</th>\n",
              "      <td>70.0</td>\n",
              "      <td>76.0</td>\n",
              "    </tr>\n",
              "    <tr>\n",
              "      <th>4</th>\n",
              "      <td>55.0</td>\n",
              "      <td>72.0</td>\n",
              "    </tr>\n",
              "  </tbody>\n",
              "</table>\n",
              "</div>"
            ],
            "text/plain": [
              "   Matematicas  Ingles\n",
              "0         80.0    77.0\n",
              "1         78.0    67.0\n",
              "2         90.0    77.0\n",
              "3         70.0    76.0\n",
              "4         55.0    72.0"
            ]
          },
          "metadata": {
            "tags": []
          },
          "execution_count": 5
        }
      ]
    },
    {
      "cell_type": "code",
      "metadata": {
        "id": "QYem-MRE2U1V",
        "colab_type": "code",
        "colab": {
          "base_uri": "https://localhost:8080/",
          "height": 265
        },
        "outputId": "3f722f48-09bf-42dc-fd66-ebe14d5647bb"
      },
      "source": [
        "plt.scatter(df['Matematicas'], df['Ingles']);"
      ],
      "execution_count": 6,
      "outputs": [
        {
          "output_type": "display_data",
          "data": {
            "image/png": "[encoded data removed]",
            "text/plain": [
              "<Figure size 432x288 with 1 Axes>"
            ]
          },
          "metadata": {
            "tags": [],
            "needs_background": "light"
          }
        }
      ]
    },
    {
      "cell_type": "code",
      "metadata": {
        "id": "k27v6JJn1t7X",
        "colab_type": "code",
        "colab": {}
      },
      "source": [
        "model = LinearRegression()"
      ],
      "execution_count": 7,
      "outputs": []
    },
    {
      "cell_type": "code",
      "metadata": {
        "id": "zyEkSn_X2t2A",
        "colab_type": "code",
        "colab": {
          "base_uri": "https://localhost:8080/",
          "height": 34
        },
        "outputId": "ef710b02-c575-43f9-c96a-a8a6464fb3ff"
      },
      "source": [
        "X = pd.DataFrame(df['Matematicas'])\n",
        "y = pd.DataFrame(df['Ingles'])\n",
        "model.fit(X, y)"
      ],
      "execution_count": 8,
      "outputs": [
        {
          "output_type": "execute_result",
          "data": {
            "text/plain": [
              "LinearRegression(copy_X=True, fit_intercept=True, n_jobs=None, normalize=False)"
            ]
          },
          "metadata": {
            "tags": []
          },
          "execution_count": 8
        }
      ]
    },
    {
      "cell_type": "code",
      "metadata": {
        "id": "CQj0c_LF3O5e",
        "colab_type": "code",
        "colab": {
          "base_uri": "https://localhost:8080/",
          "height": 51
        },
        "outputId": "5b7e2c59-fc52-4909-cd60-30822b552cd3"
      },
      "source": [
        "print('intercept:', model.intercept_)\n",
        "print('slope:', model.coef_)"
      ],
      "execution_count": 9,
      "outputs": [
        {
          "output_type": "stream",
          "text": [
            "intercept: [87.5755888]\n",
            "slope: [[-0.17819582]]\n"
          ],
          "name": "stdout"
        }
      ]
    },
    {
      "cell_type": "code",
      "metadata": {
        "id": "jkmO8D7W3YLO",
        "colab_type": "code",
        "colab": {
          "base_uri": "https://localhost:8080/",
          "height": 544
        },
        "outputId": "756f39da-a39b-4e73-d396-510a853f568e"
      },
      "source": [
        "y_pred = model.predict(X)\n",
        "print('predicted response:', y_pred, sep='\\n')"
      ],
      "execution_count": 10,
      "outputs": [
        {
          "output_type": "stream",
          "text": [
            "predicted response:\n",
            "[[73.31992297]\n",
            " [73.67631462]\n",
            " [71.53796475]\n",
            " [75.1018812 ]\n",
            " [77.77481855]\n",
            " [77.06203525]\n",
            " [71.89435639]\n",
            " [74.38909791]\n",
            " [72.60713968]\n",
            " [75.81466449]\n",
            " [72.07255221]\n",
            " [74.21090209]\n",
            " [74.21090209]\n",
            " [73.4981188 ]\n",
            " [76.70564361]\n",
            " [74.92368538]\n",
            " [76.70564361]\n",
            " [71.71616057]\n",
            " [73.4981188 ]\n",
            " [74.56729373]\n",
            " [75.99286032]\n",
            " [70.11239816]\n",
            " [72.78533551]\n",
            " [77.24023108]\n",
            " [73.31992297]\n",
            " [76.17105614]\n",
            " [75.45827285]\n",
            " [72.42894386]\n",
            " [75.1018812 ]\n",
            " [75.1018812 ]]\n"
          ],
          "name": "stdout"
        }
      ]
    },
    {
      "cell_type": "code",
      "metadata": {
        "id": "C-HgFPUN3tXc",
        "colab_type": "code",
        "colab": {
          "base_uri": "https://localhost:8080/",
          "height": 265
        },
        "outputId": "32ef5e0c-2adc-437b-972a-c497c59d0327"
      },
      "source": [
        "plt.scatter(X, y)\n",
        "plt.plot(X, y_pred, color='red')\n",
        "plt.show()"
      ],
      "execution_count": 11,
      "outputs": [
        {
          "output_type": "display_data",
          "data": {
            "image/png": "[encoded data removed]",
            "text/plain": [
              "<Figure size 432x288 with 1 Axes>"
            ]
          },
          "metadata": {
            "tags": [],
            "needs_background": "light"
          }
        }
      ]
    },
    {
      "cell_type": "code",
      "metadata": {
        "id": "U8ih9sL08A7v",
        "colab_type": "code",
        "colab": {}
      },
      "source": [
        "def calculate_residuals(model, features, label):\n",
        "    \"\"\"\n",
        "    Creates predictions on the features with the model and calculates residuals\n",
        "    \"\"\"\n",
        "    predictions = model.predict(features)\n",
        "    predictions_df=pd.DataFrame(predictions,columns=['Predictions'])\n",
        "    df_results = pd.DataFrame({'Actual': y['Ingles'], 'Predicted': predictions_df['Predictions']})\n",
        "    df_results['Residuals'] = abs(df_results['Actual']) - abs(df_results['Predicted'])\n",
        "    \n",
        "    return df_results"
      ],
      "execution_count": 12,
      "outputs": []
    },
    {
      "cell_type": "code",
      "metadata": {
        "id": "ORNQkPOJBZo_",
        "colab_type": "code",
        "colab": {}
      },
      "source": [
        "df_results = calculate_residuals(model, X, y)"
      ],
      "execution_count": 13,
      "outputs": []
    },
    {
      "cell_type": "code",
      "metadata": {
        "id": "W-Oc456pBckd",
        "colab_type": "code",
        "colab": {
          "base_uri": "https://localhost:8080/",
          "height": 979
        },
        "outputId": "684b8d1c-b7ac-4ec5-b57d-821b2bccf38d"
      },
      "source": [
        "df_results"
      ],
      "execution_count": 14,
      "outputs": [
        {
          "output_type": "execute_result",
          "data": {
            "text/html": [
              "<div>\n",
              "<style scoped>\n",
              "    .dataframe tbody tr th:only-of-type {\n",
              "        vertical-align: middle;\n",
              "    }\n",
              "\n",
              "    .dataframe tbody tr th {\n",
              "        vertical-align: top;\n",
              "    }\n",
              "\n",
              "    .dataframe thead th {\n",
              "        text-align: right;\n",
              "    }\n",
              "</style>\n",
              "<table border=\"1\" class=\"dataframe\">\n",
              "  <thead>\n",
              "    <tr style=\"text-align: right;\">\n",
              "      <th></th>\n",
              "      <th>Actual</th>\n",
              "      <th>Predicted</th>\n",
              "      <th>Residuals</th>\n",
              "    </tr>\n",
              "  </thead>\n",
              "  <tbody>\n",
              "    <tr>\n",
              "      <th>0</th>\n",
              "      <td>77.0</td>\n",
              "      <td>73.319923</td>\n",
              "      <td>3.680077</td>\n",
              "    </tr>\n",
              "    <tr>\n",
              "      <th>1</th>\n",
              "      <td>67.0</td>\n",
              "      <td>73.676315</td>\n",
              "      <td>-6.676315</td>\n",
              "    </tr>\n",
              "    <tr>\n",
              "      <th>2</th>\n",
              "      <td>77.0</td>\n",
              "      <td>71.537965</td>\n",
              "      <td>5.462035</td>\n",
              "    </tr>\n",
              "    <tr>\n",
              "      <th>3</th>\n",
              "      <td>76.0</td>\n",
              "      <td>75.101881</td>\n",
              "      <td>0.898119</td>\n",
              "    </tr>\n",
              "    <tr>\n",
              "      <th>4</th>\n",
              "      <td>72.0</td>\n",
              "      <td>77.774819</td>\n",
              "      <td>-5.774819</td>\n",
              "    </tr>\n",
              "    <tr>\n",
              "      <th>5</th>\n",
              "      <td>66.0</td>\n",
              "      <td>77.062035</td>\n",
              "      <td>-11.062035</td>\n",
              "    </tr>\n",
              "    <tr>\n",
              "      <th>6</th>\n",
              "      <td>72.0</td>\n",
              "      <td>71.894356</td>\n",
              "      <td>0.105644</td>\n",
              "    </tr>\n",
              "    <tr>\n",
              "      <th>7</th>\n",
              "      <td>88.0</td>\n",
              "      <td>74.389098</td>\n",
              "      <td>13.610902</td>\n",
              "    </tr>\n",
              "    <tr>\n",
              "      <th>8</th>\n",
              "      <td>59.0</td>\n",
              "      <td>72.607140</td>\n",
              "      <td>-13.607140</td>\n",
              "    </tr>\n",
              "    <tr>\n",
              "      <th>9</th>\n",
              "      <td>69.0</td>\n",
              "      <td>75.814664</td>\n",
              "      <td>-6.814664</td>\n",
              "    </tr>\n",
              "    <tr>\n",
              "      <th>10</th>\n",
              "      <td>82.0</td>\n",
              "      <td>72.072552</td>\n",
              "      <td>9.927448</td>\n",
              "    </tr>\n",
              "    <tr>\n",
              "      <th>11</th>\n",
              "      <td>73.0</td>\n",
              "      <td>74.210902</td>\n",
              "      <td>-1.210902</td>\n",
              "    </tr>\n",
              "    <tr>\n",
              "      <th>12</th>\n",
              "      <td>74.0</td>\n",
              "      <td>74.210902</td>\n",
              "      <td>-0.210902</td>\n",
              "    </tr>\n",
              "    <tr>\n",
              "      <th>13</th>\n",
              "      <td>65.0</td>\n",
              "      <td>73.498119</td>\n",
              "      <td>-8.498119</td>\n",
              "    </tr>\n",
              "    <tr>\n",
              "      <th>14</th>\n",
              "      <td>70.0</td>\n",
              "      <td>76.705644</td>\n",
              "      <td>-6.705644</td>\n",
              "    </tr>\n",
              "    <tr>\n",
              "      <th>15</th>\n",
              "      <td>76.0</td>\n",
              "      <td>74.923685</td>\n",
              "      <td>1.076315</td>\n",
              "    </tr>\n",
              "    <tr>\n",
              "      <th>16</th>\n",
              "      <td>80.0</td>\n",
              "      <td>76.705644</td>\n",
              "      <td>3.294356</td>\n",
              "    </tr>\n",
              "    <tr>\n",
              "      <th>17</th>\n",
              "      <td>65.0</td>\n",
              "      <td>71.716161</td>\n",
              "      <td>-6.716161</td>\n",
              "    </tr>\n",
              "    <tr>\n",
              "      <th>18</th>\n",
              "      <td>70.0</td>\n",
              "      <td>73.498119</td>\n",
              "      <td>-3.498119</td>\n",
              "    </tr>\n",
              "    <tr>\n",
              "      <th>19</th>\n",
              "      <td>74.0</td>\n",
              "      <td>74.567294</td>\n",
              "      <td>-0.567294</td>\n",
              "    </tr>\n",
              "    <tr>\n",
              "      <th>20</th>\n",
              "      <td>75.0</td>\n",
              "      <td>75.992860</td>\n",
              "      <td>-0.992860</td>\n",
              "    </tr>\n",
              "    <tr>\n",
              "      <th>21</th>\n",
              "      <td>68.0</td>\n",
              "      <td>70.112398</td>\n",
              "      <td>-2.112398</td>\n",
              "    </tr>\n",
              "    <tr>\n",
              "      <th>22</th>\n",
              "      <td>63.0</td>\n",
              "      <td>72.785336</td>\n",
              "      <td>-9.785336</td>\n",
              "    </tr>\n",
              "    <tr>\n",
              "      <th>23</th>\n",
              "      <td>98.0</td>\n",
              "      <td>77.240231</td>\n",
              "      <td>20.759769</td>\n",
              "    </tr>\n",
              "    <tr>\n",
              "      <th>24</th>\n",
              "      <td>79.0</td>\n",
              "      <td>73.319923</td>\n",
              "      <td>5.680077</td>\n",
              "    </tr>\n",
              "    <tr>\n",
              "      <th>25</th>\n",
              "      <td>64.0</td>\n",
              "      <td>76.171056</td>\n",
              "      <td>-12.171056</td>\n",
              "    </tr>\n",
              "    <tr>\n",
              "      <th>26</th>\n",
              "      <td>87.0</td>\n",
              "      <td>75.458273</td>\n",
              "      <td>11.541727</td>\n",
              "    </tr>\n",
              "    <tr>\n",
              "      <th>27</th>\n",
              "      <td>84.0</td>\n",
              "      <td>72.428944</td>\n",
              "      <td>11.571056</td>\n",
              "    </tr>\n",
              "    <tr>\n",
              "      <th>28</th>\n",
              "      <td>69.0</td>\n",
              "      <td>75.101881</td>\n",
              "      <td>-6.101881</td>\n",
              "    </tr>\n",
              "    <tr>\n",
              "      <th>29</th>\n",
              "      <td>90.0</td>\n",
              "      <td>75.101881</td>\n",
              "      <td>14.898119</td>\n",
              "    </tr>\n",
              "  </tbody>\n",
              "</table>\n",
              "</div>"
            ],
            "text/plain": [
              "    Actual  Predicted  Residuals\n",
              "0     77.0  73.319923   3.680077\n",
              "1     67.0  73.676315  -6.676315\n",
              "2     77.0  71.537965   5.462035\n",
              "3     76.0  75.101881   0.898119\n",
              "4     72.0  77.774819  -5.774819\n",
              "5     66.0  77.062035 -11.062035\n",
              "6     72.0  71.894356   0.105644\n",
              "7     88.0  74.389098  13.610902\n",
              "8     59.0  72.607140 -13.607140\n",
              "9     69.0  75.814664  -6.814664\n",
              "10    82.0  72.072552   9.927448\n",
              "11    73.0  74.210902  -1.210902\n",
              "12    74.0  74.210902  -0.210902\n",
              "13    65.0  73.498119  -8.498119\n",
              "14    70.0  76.705644  -6.705644\n",
              "15    76.0  74.923685   1.076315\n",
              "16    80.0  76.705644   3.294356\n",
              "17    65.0  71.716161  -6.716161\n",
              "18    70.0  73.498119  -3.498119\n",
              "19    74.0  74.567294  -0.567294\n",
              "20    75.0  75.992860  -0.992860\n",
              "21    68.0  70.112398  -2.112398\n",
              "22    63.0  72.785336  -9.785336\n",
              "23    98.0  77.240231  20.759769\n",
              "24    79.0  73.319923   5.680077\n",
              "25    64.0  76.171056 -12.171056\n",
              "26    87.0  75.458273  11.541727\n",
              "27    84.0  72.428944  11.571056\n",
              "28    69.0  75.101881  -6.101881\n",
              "29    90.0  75.101881  14.898119"
            ]
          },
          "metadata": {
            "tags": []
          },
          "execution_count": 14
        }
      ]
    },
    {
      "cell_type": "code",
      "metadata": {
        "id": "rftkG5w18PeY",
        "colab_type": "code",
        "colab": {}
      },
      "source": [
        "def normal_errors_assumption(model, features, label, p_value_thresh=0.05):\n",
        "    \"\"\"\n",
        "    Normality: Assumes that the error terms are normally distributed. If they are not,\n",
        "    nonlinear transformations of variables may solve this.\n",
        "               \n",
        "    This assumption being violated primarily causes issues with the confidence intervals\n",
        "    \"\"\"\n",
        "    \n",
        "    print('Assumption: The error terms are normally distributed', '\\n')\n",
        "    \n",
        "    # Calculating residuals for the Anderson-Darling test\n",
        "    df_results = calculate_residuals(model, features, label)\n",
        "    \n",
        "    print('Using the Anderson-Darling test for normal distribution')\n",
        "\n",
        "    # Performing the test on the residuals\n",
        "    p_value = normal_ad(df_results['Residuals'])[1]\n",
        "    print('p-value from the test - below 0.05 generally means non-normal:', p_value)\n",
        "    \n",
        "    # Reporting the normality of the residuals\n",
        "    if p_value < p_value_thresh:\n",
        "        print('Residuals are not normally distributed', '\\n')\n",
        "    else:\n",
        "        print('Residuals are normally distributed', '\\n')\n",
        "    \n",
        "    print('Using the Shapiro-Wilks test for normal distribution')\n",
        "    shapiro_test = shapiro(df_results['Residuals'])\n",
        "    shapiro_test_stat=shapiro_test[0]\n",
        "    shapiro_test_pvalue=shapiro_test[1]\n",
        "    print('p-value from the test - below 0.05 generally means non-normal:', shapiro_test_pvalue)\n",
        "    \n",
        "    # Reporting the normality of the residuals\n",
        "    if shapiro_test_pvalue < p_value_thresh:\n",
        "        print('Residuals are not normally distributed')\n",
        "    else:\n",
        "        print('Residuals are normally distributed')\n",
        "\n",
        "    # Plotting the residuals distribution\n",
        "    plt.subplots(figsize=(12, 6))\n",
        "    plt.title('Distribution of Residuals')\n",
        "    sns.distplot(df_results['Residuals'])\n",
        "    plt.show()\n",
        "    \n",
        "    print()\n",
        "    if p_value > p_value_thresh:\n",
        "        print('Assumption satisfied')\n",
        "    else:\n",
        "        print('Assumption not satisfied')\n",
        "        print()\n",
        "        print('Confidence intervals will likely be affected')\n",
        "        print('Try performing nonlinear transformations on variables')"
      ],
      "execution_count": 16,
      "outputs": []
    },
    {
      "cell_type": "code",
      "metadata": {
        "id": "XQX7ONYi9CQU",
        "colab_type": "code",
        "colab": {
          "base_uri": "https://localhost:8080/",
          "height": 591
        },
        "outputId": "2e6d5781-ef37-472f-c272-c41cc6a050c7"
      },
      "source": [
        "normal_errors_assumption(model, X, y)"
      ],
      "execution_count": 17,
      "outputs": [
        {
          "output_type": "stream",
          "text": [
            "Assumption: The error terms are normally distributed \n",
            "\n",
            "Using the Anderson-Darling test for normal distribution\n",
            "p-value from the test - below 0.05 generally means non-normal: 0.2711452095714222\n",
            "Residuals are normally distributed \n",
            "\n",
            "Using the Shapiro-Wilks test for normal distribution\n",
            "p-value from the test - below 0.05 generally means non-normal: 0.282282292842865\n",
            "Residuals are normally distributed\n"
          ],
          "name": "stdout"
        },
        {
          "output_type": "display_data",
          "data": {
            "image/png": "[encoded data removed]",
            "text/plain": [
              "<Figure size 864x432 with 1 Axes>"
            ]
          },
          "metadata": {
            "tags": [],
            "needs_background": "light"
          }
        },
        {
          "output_type": "stream",
          "text": [
            "\n",
            "Assumption satisfied\n"
          ],
          "name": "stdout"
        }
      ]
    }
  ]
}