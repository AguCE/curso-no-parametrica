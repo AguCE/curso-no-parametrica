{
  "nbformat": 4,
  "nbformat_minor": 0,
  "metadata": {
    "colab": {
      "name": "6.2.Friedman.ipynb",
      "provenance": []
    },
    "kernelspec": {
      "name": "python3",
      "display_name": "Python 3"
    }
  },
  "cells": [
    {
      "cell_type": "code",
      "metadata": {
        "id": "nE9inMoKVRVi",
        "colab_type": "code",
        "colab": {}
      },
      "source": [
        "import numpy as np\n",
        "import pandas as pd\n",
        "import matplotlib.pyplot as plt\n",
        "import seaborn as sns\n",
        "from scipy import stats\n",
        "from scipy.stats import friedmanchisquare\n",
        "from scipy.stats import wilcoxon\n",
        "import warnings\n",
        "warnings.filterwarnings(\"ignore\")"
      ],
      "execution_count": 16,
      "outputs": []
    },
    {
      "cell_type": "code",
      "metadata": {
        "id": "BITleO8zVmX6",
        "colab_type": "code",
        "colab": {}
      },
      "source": [
        "df=pd.read_csv('/content/wine.csv')"
      ],
      "execution_count": 3,
      "outputs": []
    },
    {
      "cell_type": "code",
      "metadata": {
        "id": "nMDSaWDHVpMh",
        "colab_type": "code",
        "colab": {
          "base_uri": "https://localhost:8080/",
          "height": 195
        },
        "outputId": "15a80b50-5561-44fb-e088-c075942979cf"
      },
      "source": [
        "df.head()"
      ],
      "execution_count": 4,
      "outputs": [
        {
          "output_type": "execute_result",
          "data": {
            "text/html": [
              "<div>\n",
              "<style scoped>\n",
              "    .dataframe tbody tr th:only-of-type {\n",
              "        vertical-align: middle;\n",
              "    }\n",
              "\n",
              "    .dataframe tbody tr th {\n",
              "        vertical-align: top;\n",
              "    }\n",
              "\n",
              "    .dataframe thead th {\n",
              "        text-align: right;\n",
              "    }\n",
              "</style>\n",
              "<table border=\"1\" class=\"dataframe\">\n",
              "  <thead>\n",
              "    <tr style=\"text-align: right;\">\n",
              "      <th></th>\n",
              "      <th>Judge</th>\n",
              "      <th>pinecreek</th>\n",
              "      <th>saintjude</th>\n",
              "      <th>northnapa</th>\n",
              "      <th>sevenwinds</th>\n",
              "      <th>eternalvalley</th>\n",
              "    </tr>\n",
              "  </thead>\n",
              "  <tbody>\n",
              "    <tr>\n",
              "      <th>0</th>\n",
              "      <td>1.0</td>\n",
              "      <td>6.0</td>\n",
              "      <td>3.0</td>\n",
              "      <td>3.0</td>\n",
              "      <td>5.0</td>\n",
              "      <td>3.0</td>\n",
              "    </tr>\n",
              "    <tr>\n",
              "      <th>1</th>\n",
              "      <td>2.0</td>\n",
              "      <td>7.0</td>\n",
              "      <td>4.0</td>\n",
              "      <td>4.0</td>\n",
              "      <td>4.0</td>\n",
              "      <td>4.0</td>\n",
              "    </tr>\n",
              "    <tr>\n",
              "      <th>2</th>\n",
              "      <td>3.0</td>\n",
              "      <td>6.0</td>\n",
              "      <td>5.0</td>\n",
              "      <td>4.0</td>\n",
              "      <td>5.0</td>\n",
              "      <td>3.0</td>\n",
              "    </tr>\n",
              "    <tr>\n",
              "      <th>3</th>\n",
              "      <td>4.0</td>\n",
              "      <td>7.0</td>\n",
              "      <td>3.0</td>\n",
              "      <td>2.0</td>\n",
              "      <td>4.0</td>\n",
              "      <td>2.0</td>\n",
              "    </tr>\n",
              "    <tr>\n",
              "      <th>4</th>\n",
              "      <td>5.0</td>\n",
              "      <td>5.0</td>\n",
              "      <td>4.0</td>\n",
              "      <td>3.0</td>\n",
              "      <td>4.0</td>\n",
              "      <td>4.0</td>\n",
              "    </tr>\n",
              "  </tbody>\n",
              "</table>\n",
              "</div>"
            ],
            "text/plain": [
              "   Judge  pinecreek  saintjude  northnapa  sevenwinds  eternalvalley\n",
              "0    1.0        6.0        3.0        3.0         5.0            3.0\n",
              "1    2.0        7.0        4.0        4.0         4.0            4.0\n",
              "2    3.0        6.0        5.0        4.0         5.0            3.0\n",
              "3    4.0        7.0        3.0        2.0         4.0            2.0\n",
              "4    5.0        5.0        4.0        3.0         4.0            4.0"
            ]
          },
          "metadata": {
            "tags": []
          },
          "execution_count": 4
        }
      ]
    },
    {
      "cell_type": "code",
      "metadata": {
        "id": "m3wLhMQFV95_",
        "colab_type": "code",
        "colab": {
          "base_uri": "https://localhost:8080/",
          "height": 50
        },
        "outputId": "104b8400-95f9-47b1-da89-3ce92e0ee866"
      },
      "source": [
        "stat, p = friedmanchisquare(df.pinecreek, df.saintjude, df.northnapa, df.sevenwinds, df.eternalvalley)\n",
        "print('Statistics=%.3f, p=%.3f' % (stat, p))\n",
        "# interpretación\n",
        "alpha = 0.05\n",
        "if p > alpha:\n",
        "\tprint('No rechazamos H0: No hay diferencias significativas entre los grupos.')\n",
        "else:\n",
        "\tprint('Rechazamos H0: Hay diferencias significativas entre los grupos.')"
      ],
      "execution_count": 5,
      "outputs": [
        {
          "output_type": "stream",
          "text": [
            "Statistics=29.893, p=0.000\n",
            "Rechazamos H0: Hay diferencias significativas entre los grupos.\n"
          ],
          "name": "stdout"
        }
      ]
    },
    {
      "cell_type": "code",
      "metadata": {
        "id": "eeqxAWmSWt8A",
        "colab_type": "code",
        "colab": {}
      },
      "source": [
        "#Combinaciones de 2 en 5 = 5!/(2!*3!)=10\n",
        "#Corrección de Bonferroni \n",
        "anew=0.05/10\n"
      ],
      "execution_count": 8,
      "outputs": []
    },
    {
      "cell_type": "code",
      "metadata": {
        "id": "yDJun4yubZLA",
        "colab_type": "code",
        "colab": {}
      },
      "source": [
        "# definimos una función\n",
        "def testwilcoxon(x,y):\n",
        "  stat, p = wilcoxon(x, y, alternative='two-sided')\n",
        "  print('Statistics=%.3f, p=%.3f' % (stat, p))\n",
        "  # interpretación\n",
        "  alpha=0.05/10\n",
        "  if p > alpha:\n",
        "    print('No rechazamos H0: No hay diferencias significativas')\n",
        "  else:\n",
        "    print('Rechazamos H0: Hay diferencias significativas')\n",
        "    "
      ],
      "execution_count": 9,
      "outputs": []
    },
    {
      "cell_type": "code",
      "metadata": {
        "id": "3nkroz1xb0Mp",
        "colab_type": "code",
        "colab": {
          "base_uri": "https://localhost:8080/",
          "height": 51
        },
        "outputId": "81ff74a0-eb57-47c6-de87-b8ab4a61db1a"
      },
      "source": [
        "testwilcoxon(df.pinecreek, df.saintjude)"
      ],
      "execution_count": 10,
      "outputs": [
        {
          "output_type": "stream",
          "text": [
            "Statistics=0.000, p=0.004\n",
            "Rechazamos H0: Hay diferencias significativas\n"
          ],
          "name": "stdout"
        }
      ]
    },
    {
      "cell_type": "code",
      "metadata": {
        "id": "jSsz4c0Ib4cn",
        "colab_type": "code",
        "colab": {
          "base_uri": "https://localhost:8080/",
          "height": 51
        },
        "outputId": "402aa3cb-6f79-4ef0-c35e-3b55e70ef124"
      },
      "source": [
        "testwilcoxon(df.pinecreek, df.northnapa)"
      ],
      "execution_count": 11,
      "outputs": [
        {
          "output_type": "stream",
          "text": [
            "Statistics=0.000, p=0.005\n",
            "Rechazamos H0: Hay diferencias significativas\n"
          ],
          "name": "stdout"
        }
      ]
    },
    {
      "cell_type": "code",
      "metadata": {
        "id": "Ch8bvKgqb_V5",
        "colab_type": "code",
        "colab": {
          "base_uri": "https://localhost:8080/",
          "height": 51
        },
        "outputId": "9773cab7-fe3c-47bc-eda9-70d92bd082a7"
      },
      "source": [
        "testwilcoxon(df.pinecreek,df.sevenwinds)"
      ],
      "execution_count": 12,
      "outputs": [
        {
          "output_type": "stream",
          "text": [
            "Statistics=0.000, p=0.004\n",
            "Rechazamos H0: Hay diferencias significativas\n"
          ],
          "name": "stdout"
        }
      ]
    },
    {
      "cell_type": "code",
      "metadata": {
        "id": "hmbWSpp6cBi4",
        "colab_type": "code",
        "colab": {
          "base_uri": "https://localhost:8080/",
          "height": 51
        },
        "outputId": "d350c4bb-efcb-4d3d-a321-c6ae0773620a"
      },
      "source": [
        "testwilcoxon(df.pinecreek, df.eternalvalley)"
      ],
      "execution_count": 13,
      "outputs": [
        {
          "output_type": "stream",
          "text": [
            "Statistics=0.000, p=0.004\n",
            "Rechazamos H0: Hay diferencias significativas\n"
          ],
          "name": "stdout"
        }
      ]
    },
    {
      "cell_type": "code",
      "metadata": {
        "id": "3WMoWCQhcJnJ",
        "colab_type": "code",
        "colab": {
          "base_uri": "https://localhost:8080/",
          "height": 51
        },
        "outputId": "22b51893-1e5c-4293-c1b6-b156bd81cfac"
      },
      "source": [
        "testwilcoxon(df.saintjude, df.northnapa)"
      ],
      "execution_count": 17,
      "outputs": [
        {
          "output_type": "stream",
          "text": [
            "Statistics=2.500, p=0.084\n",
            "No rechazamos H0: No hay diferencias significativas\n"
          ],
          "name": "stdout"
        }
      ]
    },
    {
      "cell_type": "code",
      "metadata": {
        "id": "Qaomj9hicaYy",
        "colab_type": "code",
        "colab": {
          "base_uri": "https://localhost:8080/",
          "height": 51
        },
        "outputId": "fbdec657-e98d-4c75-f2c1-ff93693f565c"
      },
      "source": [
        "testwilcoxon(df.saintjude, df.eternalvalley)"
      ],
      "execution_count": 18,
      "outputs": [
        {
          "output_type": "stream",
          "text": [
            "Statistics=2.500, p=0.084\n",
            "No rechazamos H0: No hay diferencias significativas\n"
          ],
          "name": "stdout"
        }
      ]
    },
    {
      "cell_type": "code",
      "metadata": {
        "id": "pIZJGUsIcaln",
        "colab_type": "code",
        "colab": {
          "base_uri": "https://localhost:8080/",
          "height": 50
        },
        "outputId": "09dfe8d7-ddff-4d4c-8d47-72ee954cfbac"
      },
      "source": [
        "testwilcoxon(df.saintjude, df.eternalvalley)"
      ],
      "execution_count": 19,
      "outputs": [
        {
          "output_type": "stream",
          "text": [
            "Statistics=2.500, p=0.084\n",
            "No rechazamos H0: No hay diferencias significativas\n"
          ],
          "name": "stdout"
        }
      ]
    },
    {
      "cell_type": "code",
      "metadata": {
        "id": "7-FtUA9echLs",
        "colab_type": "code",
        "colab": {
          "base_uri": "https://localhost:8080/",
          "height": 50
        },
        "outputId": "88b1d15b-ddca-4dc0-fc0d-549dd256a8b9"
      },
      "source": [
        "testwilcoxon(df.northnapa, df.sevenwinds)"
      ],
      "execution_count": 20,
      "outputs": [
        {
          "output_type": "stream",
          "text": [
            "Statistics=0.000, p=0.016\n",
            "No rechazamos H0: No hay diferencias significativas\n"
          ],
          "name": "stdout"
        }
      ]
    },
    {
      "cell_type": "code",
      "metadata": {
        "id": "FTC5bu4ccjlU",
        "colab_type": "code",
        "colab": {
          "base_uri": "https://localhost:8080/",
          "height": 50
        },
        "outputId": "35565d44-5ee1-460d-be4d-08f7c76ed628"
      },
      "source": [
        "testwilcoxon(df.northnapa, df.eternalvalley)"
      ],
      "execution_count": 21,
      "outputs": [
        {
          "output_type": "stream",
          "text": [
            "Statistics=10.500, p=1.000\n",
            "No rechazamos H0: No hay diferencias significativas\n"
          ],
          "name": "stdout"
        }
      ]
    },
    {
      "cell_type": "code",
      "metadata": {
        "id": "zZ28bSvocoAB",
        "colab_type": "code",
        "colab": {
          "base_uri": "https://localhost:8080/",
          "height": 50
        },
        "outputId": "8a2bd9fd-74d8-47cc-dfaf-71d884b49627"
      },
      "source": [
        "testwilcoxon(df.sevenwinds, df.eternalvalley)"
      ],
      "execution_count": 22,
      "outputs": [
        {
          "output_type": "stream",
          "text": [
            "Statistics=1.500, p=0.016\n",
            "No rechazamos H0: No hay diferencias significativas\n"
          ],
          "name": "stdout"
        }
      ]
    }
  ]
}